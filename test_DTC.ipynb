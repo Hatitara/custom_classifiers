{
 "cells": [
  {
   "cell_type": "code",
   "execution_count": 1,
   "id": "dbd90b39",
   "metadata": {},
   "outputs": [],
   "source": [
    "from classifiers.dtc.utils import *\n",
    "from classifiers.dtc import *"
   ]
  },
  {
   "cell_type": "code",
   "execution_count": 2,
   "id": "c67b43ef",
   "metadata": {},
   "outputs": [
    {
     "name": "stdout",
     "output_type": "stream",
     "text": [
      "--- Testing gini and entropy ---\n",
      "Gini([0, 0, 1, 1]): 0.5000, Entropy: 1.0000\n",
      "Gini([0, 0, 0]): 0.0000, Entropy: -0.0000\n",
      "Gini([0, 1, 2]): 0.6667, Entropy: 1.5850\n"
     ]
    }
   ],
   "source": [
    "print(\"--- Testing gini and entropy ---\")\n",
    "labels1 = np.array([0, 0, 1, 1])\n",
    "print(f\"Gini([0, 0, 1, 1]): {gini(labels1):.4f}, Entropy: {entropy(labels1):.4f}\")\n",
    "# Expected Gini: 0.5, Entropy: 1.0\n",
    "\n",
    "labels2 = np.array([0, 0, 0])\n",
    "print(f\"Gini([0, 0, 0]): {gini(labels2):.4f}, Entropy: {entropy(labels2):.4f}\")\n",
    "# Expected Gini: 0.0, Entropy: 0.0\n",
    "\n",
    "labels3 = np.array([0, 1, 2])\n",
    "print(f\"Gini([0, 1, 2]): {gini(labels3):.4f}, Entropy: {entropy(labels3):.4f}\")\n",
    "# Expected Gini: 0.6667, Entropy: 1.5850"
   ]
  },
  {
   "cell_type": "code",
   "execution_count": 3,
   "id": "65a59216",
   "metadata": {},
   "outputs": [
    {
     "name": "stdout",
     "output_type": "stream",
     "text": [
      "\n",
      "--- Testing split (continuous) ---\n",
      "Split at 2.5, left indices: [0 1], right indices: [2 3]\n"
     ]
    }
   ],
   "source": [
    "print(\"\\n--- Testing split (continuous) ---\")\n",
    "X_split = np.array([[1], [2], [3], [4]])\n",
    "y_split = np.array([0, 0, 1, 1])\n",
    "left_idx, right_idx, _, _, _, _ = split(X_split, y_split, 0, 2.5)\n",
    "print(f\"Split at 2.5, left indices: {left_idx}, right indices: {right_idx}\")\n",
    "# Expected left: [0, 1], right: [2, 3]"
   ]
  },
  {
   "cell_type": "code",
   "execution_count": 4,
   "id": "0591b7d9",
   "metadata": {},
   "outputs": [
    {
     "name": "stdout",
     "output_type": "stream",
     "text": [
      "\n",
      "--- Testing is_categorical ---\n",
      "Is feature 0 of X_cat categorical?: True\n",
      "Is feature 0 of X_cont categorical?: False\n"
     ]
    }
   ],
   "source": [
    "print(\"\\n--- Testing is_categorical ---\")\n",
    "X_cat = np.array([[1], [2], [1], [3], [2]])\n",
    "print(f\"Is feature 0 of X_cat categorical?: {is_categorical(X_cat, 0)}\")\n",
    "# Expected: True (5 unique values <= default threshold of 10)\n",
    "\n",
    "X_cont = np.array([[1], [2], [3], [4], [5], [6], [7], [8], [9], [10], [11]])\n",
    "print(f\"Is feature 0 of X_cont categorical?: {is_categorical(X_cont, 0)}\")\n",
    "# Expected: False (11 unique values > default threshold of 10)"
   ]
  },
  {
   "cell_type": "code",
   "execution_count": 5,
   "id": "2bbd2ffe",
   "metadata": {},
   "outputs": [
    {
     "name": "stdout",
     "output_type": "stream",
     "text": [
      "\n",
      "--- Testing categorical_split ---\n",
      "Categorical split, left indices: [1 4], right indices: [0 2 3]\n",
      "Left labels: [0 0], Right labels: [0 1 1]\n"
     ]
    }
   ],
   "source": [
    "print(\"\\n--- Testing categorical_split ---\")\n",
    "X_cat_split = np.array([['A'], ['B'], ['A'], ['C'], ['B']])\n",
    "y_cat_split = np.array([0, 0, 1, 1, 0])\n",
    "left_idx_cat, right_idx_cat, _, y_left_cat, _, y_right_cat = categorical_split(X_cat_split, y_cat_split, 0)\n",
    "print(f\"Categorical split, left indices: {left_idx_cat}, right indices: {right_idx_cat}\")\n",
    "print(f\"Left labels: {y_left_cat}, Right labels: {y_right_cat}\")\n",
    "# The output might vary depending on the best split found.\n",
    "# One possibility: left on 'A', right on 'B', 'C'"
   ]
  },
  {
   "cell_type": "code",
   "execution_count": 6,
   "id": "c244b3e1",
   "metadata": {},
   "outputs": [
    {
     "name": "stdout",
     "output_type": "stream",
     "text": [
      "\n",
      "--- Testing best_split (integration) ---\n",
      "Best split feature index: 0, best threshold: ['10', '11']\n"
     ]
    }
   ],
   "source": [
    "print(\"\\n--- Testing best_split (integration) ---\")\n",
    "X_best = np.array([[1, 'A'], [2, 'B'], [1, 'A'], [3, 'C'], [2, 'B'], [3, 'C'], [4, 'A'], [5, 'B'], [6, 'C'], [7, 'A'], [8, 'B'], [9, 'C'], [10, 'A'], [11, 'B']])\n",
    "y_best = np.array([0, 0, 1, 1, 0, 0, 1, 1, 0, 0, 1, 1, 0, 0])\n",
    "best_feature_idx, best_thresh_best, _, _ = best_split(X_best, y_best)\n",
    "print(f\"Best split feature index: {best_feature_idx}, best threshold: {best_thresh_best}\")\n",
    "# The output will depend on which split yields the highest information gain.\n",
    "# It could be on the continuous feature (index 0) or the categorical (index 1)."
   ]
  },
  {
   "cell_type": "code",
   "execution_count": 7,
   "id": "0d5ef656",
   "metadata": {},
   "outputs": [
    {
     "name": "stdout",
     "output_type": "stream",
     "text": [
      "Wine dataset feature names: ['alcohol', 'malic_acid', 'ash', 'alcalinity_of_ash', 'magnesium', 'total_phenols', 'flavanoids', 'nonflavanoid_phenols', 'proanthocyanins', 'color_intensity', 'hue', 'od280/od315_of_diluted_wines', 'proline']\n",
      "Number of samples: 178\n",
      "Number of features: 13\n",
      "Target classes: ['class_0' 'class_1' 'class_2']\n"
     ]
    }
   ],
   "source": [
    "from sklearn.datasets import load_wine\n",
    "import numpy as np\n",
    "\n",
    "wine = load_wine()\n",
    "X_wine = wine.data\n",
    "y_wine = wine.target\n",
    "feature_names_wine = wine.feature_names\n",
    "target_names_wine = wine.target_names\n",
    "\n",
    "print(\"Wine dataset feature names:\", feature_names_wine)\n",
    "print(\"Number of samples:\", X_wine.shape[0])\n",
    "print(\"Number of features:\", X_wine.shape[1])\n",
    "print(\"Target classes:\", target_names_wine)"
   ]
  },
  {
   "cell_type": "code",
   "execution_count": null,
   "id": "f01b7f86",
   "metadata": {},
   "outputs": [
    {
     "name": "stdout",
     "output_type": "stream",
     "text": [
      "\n",
      "Accuracy on Wine dataset: 94.4444%\n",
      "\n",
      "Classification Report (Custom DTC on Wine):\n",
      "              class_0    class_1    class_2  accuracy  macro avg  weighted avg\n",
      "precision   0.944444   0.913043   1.000000  0.944444   0.952496      0.946636\n",
      "recall      0.894737   1.000000   0.928571  0.944444   0.941103      0.944444\n",
      "f1-score    0.918919   0.954545   0.962963  0.944444   0.945476      0.944193\n",
      "support    19.000000  21.000000  14.000000  0.944444  54.000000     54.000000\n"
     ]
    }
   ],
   "source": [
    "from sklearn.model_selection import train_test_split\n",
    "from sklearn.metrics import accuracy_score, confusion_matrix, f1_score\n",
    "import pandas as pd\n",
    "\n",
    "X_train_wine, X_test_wine, y_train_wine, y_test_wine = train_test_split(\n",
    "    X_wine, y_wine, test_size=0.3, random_state=42\n",
    ")\n",
    "\n",
    "# Instantiate our Decision Tree Classifier, setting a categorical threshold\n",
    "dtc_mixed = DecisionTreeClassifier(max_depth=5, categorical_threshold=6) # Let's say if a feature has <= 6 unique values, treat as categorical\n",
    "\n",
    "# Train the classifier\n",
    "dtc_mixed.fit(X_train_wine, y_train_wine, target_names=target_names_wine)\n",
    "\n",
    "# Make predictions on the test set\n",
    "y_pred_mixed = dtc_mixed.predict(X_test_wine)\n",
    "\n",
    "# Evaluate performance\n",
    "accuracy_mixed = accuracy_score(y_test_wine, y_pred_mixed)\n",
    "print(f\"\\nAccuracy on Wine dataset: {accuracy_mixed*100:.4f}%\")\n",
    "\n",
    "# Print summary\n",
    "summary_mixed = dtc_mixed.summary(X_test_wine, y_test_wine, target_names=target_names_wine)\n",
    "print(\"\\nClassification Report (Custom DTC on Wine):\\n\", summary_mixed)"
   ]
  },
  {
   "cell_type": "code",
   "execution_count": 9,
   "id": "a980f340",
   "metadata": {},
   "outputs": [
    {
     "data": {
      "image/png": "[encoded data removed]",
      "text/plain": [
       "<Figure size 800x600 with 2 Axes>"
      ]
     },
     "metadata": {},
     "output_type": "display_data"
    }
   ],
   "source": [
    "import matplotlib.pyplot as plt\n",
    "from sklearn.metrics import confusion_matrix\n",
    "import seaborn as sns\n",
    "\n",
    "cm = confusion_matrix(y_test_wine, y_pred_mixed)\n",
    "\n",
    "plt.figure(figsize=(8, 6))\n",
    "sns.heatmap(cm, annot=True, fmt='d', cmap='Blues',\n",
    "            xticklabels=target_names_wine, yticklabels=target_names_wine)\n",
    "plt.xlabel('Predicted')\n",
    "plt.ylabel('Actual')\n",
    "plt.title('Confusion Matrix (Custom Decision Tree on Wine)')\n",
    "plt.show()"
   ]
  },
  {
   "cell_type": "code",
   "execution_count": 10,
   "id": "d5bc0099",
   "metadata": {},
   "outputs": [
    {
     "name": "stdout",
     "output_type": "stream",
     "text": [
      "\n",
      "--- Inspecting the Decision Tree with Feature Type ---\n",
      "Feature 9 (Continuous) <= 3.82\n",
      "Left:\n",
      "  Feature 2 (Continuous) <= 3.07\n",
      "  Left:\n",
      "    Feature 11 (Continuous) <= 3.82\n",
      "    Left:\n",
      "      Leaf: class 1\n",
      "    Right:\n",
      "      Leaf: class 0\n",
      "  Right:\n",
      "    Leaf: class 0\n",
      "Right:\n",
      "  Feature 6 (Continuous) <= 1.40\n",
      "  Left:\n",
      "    Leaf: class 2\n",
      "  Right:\n",
      "    Feature 12 (Continuous) <= 724.50\n",
      "    Left:\n",
      "      Feature 0 (Continuous) <= 13.14\n",
      "      Left:\n",
      "        Leaf: class 1\n",
      "      Right:\n",
      "        Leaf: class 0\n",
      "    Right:\n",
      "      Leaf: class 0\n"
     ]
    }
   ],
   "source": [
    "print(\"\\n--- Inspecting the Decision Tree with Feature Type ---\")\n",
    "dtc_mixed.inspect_tree()"
   ]
  },
  {
   "cell_type": "code",
   "execution_count": 11,
   "id": "4b1471e2",
   "metadata": {},
   "outputs": [
    {
     "data": {
      "text/html": [
       "<div>\n",
       "<style scoped>\n",
       "    .dataframe tbody tr th:only-of-type {\n",
       "        vertical-align: middle;\n",
       "    }\n",
       "\n",
       "    .dataframe tbody tr th {\n",
       "        vertical-align: top;\n",
       "    }\n",
       "\n",
       "    .dataframe thead th {\n",
       "        text-align: right;\n",
       "    }\n",
       "</style>\n",
       "<table border=\"1\" class=\"dataframe\">\n",
       "  <thead>\n",
       "    <tr style=\"text-align: right;\">\n",
       "      <th></th>\n",
       "      <th>PassengerId</th>\n",
       "      <th>Survived</th>\n",
       "      <th>Pclass</th>\n",
       "      <th>Name</th>\n",
       "      <th>Sex</th>\n",
       "      <th>Age</th>\n",
       "      <th>SibSp</th>\n",
       "      <th>Parch</th>\n",
       "      <th>Ticket</th>\n",
       "      <th>Fare</th>\n",
       "      <th>Cabin</th>\n",
       "      <th>Embarked</th>\n",
       "    </tr>\n",
       "  </thead>\n",
       "  <tbody>\n",
       "    <tr>\n",
       "      <th>1</th>\n",
       "      <td>2</td>\n",
       "      <td>1</td>\n",
       "      <td>1</td>\n",
       "      <td>Cumings, Mrs. John Bradley (Florence Briggs Th...</td>\n",
       "      <td>female</td>\n",
       "      <td>38.0</td>\n",
       "      <td>1</td>\n",
       "      <td>0</td>\n",
       "      <td>PC 17599</td>\n",
       "      <td>71.2833</td>\n",
       "      <td>C85</td>\n",
       "      <td>C</td>\n",
       "    </tr>\n",
       "    <tr>\n",
       "      <th>3</th>\n",
       "      <td>4</td>\n",
       "      <td>1</td>\n",
       "      <td>1</td>\n",
       "      <td>Futrelle, Mrs. Jacques Heath (Lily May Peel)</td>\n",
       "      <td>female</td>\n",
       "      <td>35.0</td>\n",
       "      <td>1</td>\n",
       "      <td>0</td>\n",
       "      <td>113803</td>\n",
       "      <td>53.1000</td>\n",
       "      <td>C123</td>\n",
       "      <td>S</td>\n",
       "    </tr>\n",
       "    <tr>\n",
       "      <th>6</th>\n",
       "      <td>7</td>\n",
       "      <td>0</td>\n",
       "      <td>1</td>\n",
       "      <td>McCarthy, Mr. Timothy J</td>\n",
       "      <td>male</td>\n",
       "      <td>54.0</td>\n",
       "      <td>0</td>\n",
       "      <td>0</td>\n",
       "      <td>17463</td>\n",
       "      <td>51.8625</td>\n",
       "      <td>E46</td>\n",
       "      <td>S</td>\n",
       "    </tr>\n",
       "    <tr>\n",
       "      <th>10</th>\n",
       "      <td>11</td>\n",
       "      <td>1</td>\n",
       "      <td>3</td>\n",
       "      <td>Sandstrom, Miss. Marguerite Rut</td>\n",
       "      <td>female</td>\n",
       "      <td>4.0</td>\n",
       "      <td>1</td>\n",
       "      <td>1</td>\n",
       "      <td>PP 9549</td>\n",
       "      <td>16.7000</td>\n",
       "      <td>G6</td>\n",
       "      <td>S</td>\n",
       "    </tr>\n",
       "    <tr>\n",
       "      <th>11</th>\n",
       "      <td>12</td>\n",
       "      <td>1</td>\n",
       "      <td>1</td>\n",
       "      <td>Bonnell, Miss. Elizabeth</td>\n",
       "      <td>female</td>\n",
       "      <td>58.0</td>\n",
       "      <td>0</td>\n",
       "      <td>0</td>\n",
       "      <td>113783</td>\n",
       "      <td>26.5500</td>\n",
       "      <td>C103</td>\n",
       "      <td>S</td>\n",
       "    </tr>\n",
       "  </tbody>\n",
       "</table>\n",
       "</div>"
      ],
      "text/plain": [
       "    PassengerId  Survived  Pclass  \\\n",
       "1             2         1       1   \n",
       "3             4         1       1   \n",
       "6             7         0       1   \n",
       "10           11         1       3   \n",
       "11           12         1       1   \n",
       "\n",
       "                                                 Name     Sex   Age  SibSp  \\\n",
       "1   Cumings, Mrs. John Bradley (Florence Briggs Th...  female  38.0      1   \n",
       "3        Futrelle, Mrs. Jacques Heath (Lily May Peel)  female  35.0      1   \n",
       "6                             McCarthy, Mr. Timothy J    male  54.0      0   \n",
       "10                    Sandstrom, Miss. Marguerite Rut  female   4.0      1   \n",
       "11                           Bonnell, Miss. Elizabeth  female  58.0      0   \n",
       "\n",
       "    Parch    Ticket     Fare Cabin Embarked  \n",
       "1       0  PC 17599  71.2833   C85        C  \n",
       "3       0    113803  53.1000  C123        S  \n",
       "6       0     17463  51.8625   E46        S  \n",
       "10      1   PP 9549  16.7000    G6        S  \n",
       "11      0    113783  26.5500  C103        S  "
      ]
     },
     "execution_count": 11,
     "metadata": {},
     "output_type": "execute_result"
    }
   ],
   "source": [
    "import pandas as pd\n",
    "from sklearn.model_selection import train_test_split\n",
    "from sklearn.metrics import accuracy_score\n",
    "import numpy as np\n",
    "from sklearn.preprocessing import LabelEncoder\n",
    "\n",
    "try:\n",
    "    titanic_df = pd.read_csv(\"https://raw.githubusercontent.com/datasciencedojo/datasets/master/titanic.csv\")\n",
    "except Exception as e:\n",
    "    print(f\"Error loading Titanic dataset: {e}\")\n",
    "    print(\"Please ensure you have 'titanic.csv' in the current directory or provide a valid path.\")\n",
    "    exit()\n",
    "\n",
    "titanic_df_cleaned = titanic_df.dropna()\n",
    "titanic_df_cleaned.head()"
   ]
  },
  {
   "cell_type": "code",
   "execution_count": 12,
   "id": "6fcbc969",
   "metadata": {},
   "outputs": [
    {
     "name": "stdout",
     "output_type": "stream",
     "text": [
      "\n",
      "Accuracy on Test set: 75.2336%\n",
      "F1-score on Test set: 68.6391%\n",
      "\n",
      "Accuracy on Training set: 79.1165%\n",
      "F1-score on Training set: 72.4868%\n",
      "\n",
      "--- Inspecting the Decision Tree with Feature Type ---\n",
      "Feature 1 (Categorical) in ['male']\n",
      "Left:\n",
      "  Leaf: class 0\n",
      "Right:\n",
      "  Leaf: class 1\n"
     ]
    }
   ],
   "source": [
    "features = ['Pclass', 'Sex', 'Age', 'SibSp', 'Parch', 'Fare', 'Embarked']\n",
    "target = 'Survived'\n",
    "data = titanic_df[features + [target]].dropna()\n",
    "\n",
    "X_titanic = data[features].values\n",
    "y_titanic = data[target].values\n",
    "\n",
    "X_train_titanic, X_test_titanic, y_train_titanic, y_test_titanic = train_test_split(\n",
    "    X_titanic, y_titanic, test_size=0.3, random_state=42\n",
    ")\n",
    "\n",
    "dtc_titanic = DecisionTreeClassifier(max_depth=3, categorical_threshold=10, min_impurity_decrease=0.01, min_in_category=5)\n",
    "dtc_titanic.fit(X_train_titanic, y_train_titanic)\n",
    "\n",
    "y_pred_titanic = dtc_titanic.predict(X_test_titanic)\n",
    "accuracy_test = accuracy_score(y_test_titanic, y_pred_titanic)\n",
    "f1_test = f1_score(y_test_titanic, y_pred_titanic)\n",
    "print(f\"\\nAccuracy on Test set: {accuracy_test*100:.4f}%\")\n",
    "print(f\"F1-score on Test set: {f1_test*100:.4f}%\")\n",
    "\n",
    "y_pred_train_titanic = dtc_titanic.predict(X_train_titanic)\n",
    "accuracy_train = accuracy_score(y_train_titanic, y_pred_train_titanic)\n",
    "f1_train = f1_score(y_train_titanic, y_pred_train_titanic)\n",
    "print(f\"\\nAccuracy on Training set: {accuracy_train*100:.4f}%\")\n",
    "print(f\"F1-score on Training set: {f1_train*100:.4f}%\")\n",
    "\n",
    "print(\"\\n--- Inspecting the Decision Tree with Feature Type ---\")\n",
    "dtc_titanic.inspect_tree()\n"
   ]
  },
  {
   "cell_type": "code",
   "execution_count": 13,
   "id": "202146ac",
   "metadata": {},
   "outputs": [
    {
     "data": {
      "image/png": "[encoded data removed]",
      "text/plain": [
       "<Figure size 640x480 with 2 Axes>"
      ]
     },
     "metadata": {},
     "output_type": "display_data"
    }
   ],
   "source": [
    "cm = confusion_matrix(y_test_titanic, y_pred_titanic)\n",
    "\n",
    "sns.heatmap(cm, annot=True, fmt='d', cmap='Reds')\n",
    "plt.xlabel('Predicted')\n",
    "plt.ylabel('Actual')\n",
    "plt.title('Confusion Matrix - Titanic DTC')\n",
    "plt.show()"
   ]
  },
  {
   "cell_type": "code",
   "execution_count": 14,
   "id": "1564a450",
   "metadata": {},
   "outputs": [
    {
     "name": "stdout",
     "output_type": "stream",
     "text": [
      "\n",
      "Accuracy on Breast Cancer dataset: 96.4912%\n",
      "F1-score on Breast Cancer dataset: 97.2222%\n"
     ]
    },
    {
     "data": {
      "image/png": "[encoded data removed]",
      "text/plain": [
       "<Figure size 640x480 with 2 Axes>"
      ]
     },
     "metadata": {},
     "output_type": "display_data"
    }
   ],
   "source": [
    "from sklearn.datasets import load_breast_cancer\n",
    "\n",
    "breast_cancer = load_breast_cancer()\n",
    "X_bc = breast_cancer.data\n",
    "y_bc = breast_cancer.target\n",
    "feature_names_bc = breast_cancer.feature_names\n",
    "target_names_bc = breast_cancer.target_names\n",
    "\n",
    "X_train_bc, X_test_bc, y_train_bc, y_test_bc = train_test_split(\n",
    "    X_bc, y_bc, test_size=0.3, random_state=42\n",
    ")\n",
    "\n",
    "dtc_bc = DecisionTreeClassifier(max_depth=4, categorical_threshold=10, min_impurity_decrease=0.03)\n",
    "dtc_bc.fit(X_train_bc, y_train_bc, target_names=target_names_bc)\n",
    "\n",
    "y_pred_bc = dtc_bc.predict(X_test_bc)\n",
    "\n",
    "accuracy_bc = accuracy_score(y_test_bc, y_pred_bc)\n",
    "f1_bc = f1_score(y_test_bc, y_pred_bc)\n",
    "print(f\"\\nAccuracy on Breast Cancer dataset: {accuracy_bc*100:.4f}%\")\n",
    "print(f\"F1-score on Breast Cancer dataset: {f1_bc*100:.4f}%\")\n",
    "\n",
    "cm_bc = confusion_matrix(y_test_bc, y_pred_bc)\n",
    "sns.heatmap(cm_bc, annot=True, fmt='d', cmap='Greens', xticklabels=target_names_bc, yticklabels=target_names_bc)\n",
    "plt.xlabel('Predicted')\n",
    "plt.ylabel('Actual')\n",
    "plt.title('Confusion Matrix - Breast Cancer DTC')\n",
    "plt.show()"
   ]
  }
 ],
 "metadata": {
  "kernelspec": {
   "display_name": "venv",
   "language": "python",
   "name": "python3"
  },
  "language_info": {
   "codemirror_mode": {
    "name": "ipython",
    "version": 3
   },
   "file_extension": ".py",
   "mimetype": "text/x-python",
   "name": "python",
   "nbconvert_exporter": "python",
   "pygments_lexer": "ipython3",
   "version": "3.11.5"
  }
 },
 "nbformat": 4,
 "nbformat_minor": 5
}
